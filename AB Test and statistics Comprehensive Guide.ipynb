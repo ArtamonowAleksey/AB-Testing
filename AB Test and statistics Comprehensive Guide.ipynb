{
 "cells": [
  {
   "cell_type": "code",
   "execution_count": 168,
   "id": "ec94d507",
   "metadata": {},
   "outputs": [],
   "source": [
    "import pandas as pd\n",
    "import statsmodels.api as sm\n",
    "from scipy import stats\n",
    "from scipy.stats import chi2_contingency\n",
    "from scipy.stats import mannwhitneyu\n",
    "import numpy as np\n",
    "import seaborn as sns\n",
    "import matplotlib.pyplot as plt \n",
    "import bootstrapped.bootstrap as bs\n",
    "import bootstrapped.stats_functions as bs_stats\n",
    "import bootstrapped.compare_functions as bs_compare"
   ]
  },
  {
   "cell_type": "markdown",
   "id": "77767e88",
   "metadata": {},
   "source": [
    "Основные определения:\n",
    "\n",
    "Перцентиль (Percentile) - это статистическая мера, используемая для определения значения, ниже которого попадает определенная доля данных в распределении. Он позволяет разделить данные на процентные доли и определить, какие значения находятся выше или ниже определенного процентного уровня.\n",
    "\n",
    "Основные перцентили включают в себя:\n",
    "\n",
    "Медиану (50-й перцентиль): Это значение, которое разделяет данные на две равные части. 50% данных находятся выше медианы, и 50% данных находятся ниже медианы.\n",
    "Перцентиль 25 (Q1): Это значение, ниже которого находится 25% данных (также называется первым квартилем).\n",
    "Перцентиль 75 (Q3): Это значение, ниже которого находится 75% данных (также называется третьим квартилем).\n",
    "Перцентиль 90: Это значение, ниже которого находится 90% данных.\n",
    "Перцентиль 95: Это значение, ниже которого находится 95% данных.\n",
    "Перцентиль 99: Это значение, ниже которого находится 99% данных.\n",
    "Перцентили полезны при анализе данных, потому что они позволяют определить, какие значения являются \"типичными\" или \"выдающимися\" в распределении. Например, 25-й перцентиль может указать на нижнюю границу для \"низких\" значений, а 75-й перцентиль - на верхнюю границу для \"высоких\" значений. Перцентили также используются для определения выбросов (выдающихся значений) в данных и для идентификации потенциальных аномалий.\n",
    "\n",
    "Доверительный интервал (Confidence Interval):\n",
    "Доверительный интервал - это интервал численных значений, который используется для оценки неопределенности вокруг статистической оценки параметра (например, среднего значения) на основе выборочных данных. Он представляет собой диапазон значений, в пределах которого с определенной вероятностью (обычно указывается уровень доверия, например, 95%) находится истинное значение параметра. Чем шире доверительный интервал, тем меньше точность оценки.\n",
    "\n",
    "Дисперсия (Variance):\n",
    "Дисперсия - это мера разброса данных относительно их среднего значения. Она измеряет, насколько далеко каждое значение данных отклоняется от среднего значения. Математически, дисперсия вычисляется как средний квадрат разницы между каждым значением и средним значением. Дисперсия используется для оценки изменчивости данных.\n",
    "\n",
    "Стандартное отклонение (Standard Deviation):\n",
    "Стандартное отклонение - это корень из дисперсии. Оно измеряет среднее расстояние между каждым значением данных и средним значением. Стандартное отклонение также используется для измерения изменчивости данных, и оно является более интерпретируемым, так как оно выражается в тех же единицах, что и данные.\n",
    "\n",
    "Ковариация (Covariance):\n",
    "Ковариация - это мера степени линейной зависимости между двумя случайными переменными. Она показывает, как изменение одной переменной влияет на изменение другой. Если ковариация положительна, это означает, что обе переменные изменяются в одном направлении (одна увеличивается, когда другая увеличивается, и наоборот). Если ковариация отрицательна, это означает, что они изменяются в противоположных направлениях. Коэффициент корреляции Пирсона используется для нормализации ковариации и измерения степени линейной зависимости между переменными."
   ]
  },
  {
   "cell_type": "markdown",
   "id": "cf8f9c3d",
   "metadata": {},
   "source": [
    "Параметрические и непараметрические тесты - это две основные категории статистических тестов, которые используются для анализа данных. Они различаются по тому, какие предположения делаются о распределении данных и какие типы данных они могут анализировать.\n",
    "\n",
    "Параметрические тесты:\n",
    "Эти тесты предполагают, что данные подчиняются определенному параметрическому (известному) распределению, обычно нормальному распределению. Параметрические тесты обычно работают лучше, когда предположения о нормальности и равенстве дисперсий выполняются.\n",
    "Примеры параметрических тестов включают t-тесты, ANOVA (анализ дисперсии), регрессионный анализ и другие, которые используют параметры распределения данных.\n",
    "Параметрические тесты часто более мощные (способные обнаружить статистические различия при наличии таковых), но их результаты зависят от корректности предположений.\n",
    "Непараметрические тесты:\n",
    "Непараметрические тесты не предполагают, что данные подчиняются какому-либо конкретному распределению. Они менее чувствительны к отклонениям от нормальности и могут использоваться с данными, которые не подчиняются нормальному распределению.\n",
    "\n",
    "Эти тесты используют ранги данных вместо самих значений, делая их менее зависимыми от конкретных распределений.\n",
    "Примеры непараметрических тестов включают тест Уилкоксона-Манна-Уитни (для сравнения двух независимых выборок), тест Вилкоксона (для сравнения двух связанных выборок), критерий Краскела-Уоллиса (аналог ANOVA) и другие.\n",
    "Выбор между параметрическими и непараметрическими тестами зависит от характера ваших данных и того, выполняются ли предположения параметрических тестов. Если ваши данные соответствуют предположениям параметрических тестов, они часто более мощные и могут обеспечить более точные результаты. В противном случае непараметрические тесты предоставляют более консервативные и устойчивые к нарушениям предположений методы анализа"
   ]
  },
  {
   "cell_type": "markdown",
   "id": "70459e08",
   "metadata": {},
   "source": [
    "#Поэтапные действия"
   ]
  },
  {
   "cell_type": "markdown",
   "id": "469b1d57",
   "metadata": {},
   "source": [
    "#Для биномиальной переменной - например конверсия"
   ]
  },
  {
   "cell_type": "code",
   "execution_count": null,
   "id": "beb44944",
   "metadata": {},
   "outputs": [],
   "source": [
    "#Расчет мощности выборки"
   ]
  },
  {
   "cell_type": "code",
   "execution_count": 80,
   "id": "2edaeb4b",
   "metadata": {},
   "outputs": [
    {
     "name": "stdout",
     "output_type": "stream",
     "text": [
      "Необходимый размер выборки каждой группы: 902\n"
     ]
    }
   ],
   "source": [
    "\n",
    "# Ожидаемое улучшение метрики (например, 5%)\n",
    "\n",
    "expected_effect = 0.05\n",
    "\n",
    "# Уровень статистической значимости (например, 0.05)\n",
    "alpha = 0.05\n",
    "\n",
    "# Мощность теста (например, 0.8)\n",
    "power = 0.8\n",
    "\n",
    "# Базовая вероятность события (контрольная группа, например, 0.1)\n",
    "baseline_conversion_rate = 0.15\n",
    "\n",
    "# Расчет размера выборки\n",
    "effect_size = sm.stats.proportion_effectsize(baseline_conversion_rate, baseline_conversion_rate + expected_effect)\n",
    "required_sample_size = sm.stats.NormalIndPower().solve_power(effect_size, power=power, alpha=alpha)\n",
    "\n",
    "print(f'Необходимый размер выборки каждой группы: {required_sample_size:.0f}')"
   ]
  },
  {
   "cell_type": "markdown",
   "id": "60eb5469",
   "metadata": {},
   "source": [
    "Базовая вероятность события (или базовая конверсионная ставка) представляет собой вероятность, с которой событие происходит в контрольной группе (группе A в A/B-тесте) до внесения каких-либо изменений или вмешательств. Это выступает в качестве отправной точки для сравнения с экспериментальной группой (группой B), в которой применяются изменения или новые методы.\n",
    "\n",
    "Например, если у вас есть интернет-магазин, и вы хотите провести A/B-тест для определения влияния изменения дизайна кнопки \"Купить\" на странице продукта на конверсионную ставку (сколько посетителей фактически совершили покупку), то базовая вероятность события будет представлять собой конверсионную ставку на этой странице до внесения изменений."
   ]
  },
  {
   "cell_type": "markdown",
   "id": "1ee0d374",
   "metadata": {},
   "source": [
    "Ожидаемый эффект (effect size) в контексте A/B-тестирования представляет собой меру различия между группами, которую вы ожидаете обнаружить в результате эксперимента. Это числовое значение, которое позволяет определить, насколько значимо изменение метрики между контрольной и экспериментальной группами.\n",
    "\n",
    "Размер ожидаемого эффекта может быть определен на основе предварительных исследований, экспертных оценок или бизнес-знаний. Чем больше ожидаемый эффект, тем меньший размер выборки вам потребуется для обнаружения этого эффекта.\n",
    "\n",
    "Важно отметить, что размер ожидаемого эффекта является важным параметром для расчета мощности теста (statistical power) и размера выборки. Если ожидаемый эффект слишком мал, вам может потребоваться очень большая выборка, чтобы обнаружить его, и наоборот.\n",
    "\n",
    "Обычно размер ожидаемого эффекта измеряется в стандартных отклонениях (стандартных единицах) или в процентах изменения от базовой конверсионной ставки или среднего значения метрики в контрольной группе.\n",
    "\n",
    "Примеры размеров ожидаемого эффекта:\n",
    "\n",
    "Если вы ожидаете увеличение конверсии на 5% после внесения изменений, то размер ожидаемого эффекта составит 0.05.\n",
    "Если вы ожидаете увеличение среднего чека на 10 долларов после внесения изменений, и стандартное отклонение равно 20 долларам, то размер ожидаемого эффекта составит 10 / 20 = 0.5 стандартных отклонений.\n",
    "Помните, что выбор размера ожидаемого эффекта требует здравого смысла и анализа бизнес-контекста, чтобы быть реалистичным и практичным.\n"
   ]
  },
  {
   "cell_type": "code",
   "execution_count": 118,
   "id": "e071f11b",
   "metadata": {},
   "outputs": [],
   "source": [
    "#Создадим тестовую и контрольную биномиальные выборки 1 - юзер совершил покупку) 0 - юзер не совершил покупку\n",
    "\n",
    "test_values = np.random.binomial(1,.51,1000)\n",
    "control_values = np.random.binomial(1,.5,1000)"
   ]
  },
  {
   "cell_type": "code",
   "execution_count": 119,
   "id": "a7f1a9e3",
   "metadata": {},
   "outputs": [
    {
     "name": "stdout",
     "output_type": "stream",
     "text": [
      "Test: 546 Control: 529\n"
     ]
    }
   ],
   "source": [
    "#Успехи и неудачи в каждой выборке\n",
    "\n",
    "#Успехи\n",
    "\n",
    "test_success = test_values.sum()\n",
    "control_success = control_values.sum()\n",
    "\n",
    "print('Test:' ,test_success,'Control:' ,control_success)"
   ]
  },
  {
   "cell_type": "code",
   "execution_count": 130,
   "id": "4e3bb06c",
   "metadata": {},
   "outputs": [
    {
     "name": "stdout",
     "output_type": "stream",
     "text": [
      "Test: 54.6 Control: 52.900000000000006\n"
     ]
    }
   ],
   "source": [
    "#Вычисляем доли успехов в каждой группе\n",
    "\n",
    "test_success_2 = test_values.sum()/len(test_values)\n",
    "control_success_2 = control_values.sum()/len(control_values)\n",
    "\n",
    "print('Test:' ,test_success_2*100,'Control:' ,control_success_2*100)"
   ]
  },
  {
   "cell_type": "markdown",
   "id": "fe47f351",
   "metadata": {},
   "source": [
    "#Ручной расчет Z теста "
   ]
  },
  {
   "cell_type": "code",
   "execution_count": 157,
   "id": "40fc2b24",
   "metadata": {},
   "outputs": [
    {
     "name": "stdout",
     "output_type": "stream",
     "text": [
      "Есть статистически значимая разница между группами A и B. 0.0\n"
     ]
    }
   ],
   "source": [
    "# Пример данных для группы A и B\n",
    "\n",
    "n_A = len(test_values)  # Общее количество испытаний (попыток) в группе A\n",
    "x_A = test_values.sum()   # Количество успехов в группе A\n",
    "\n",
    "n_B = len(control_values)  # Общее количество испытаний (попыток) в группе B\n",
    "x_B = control_values.sum()   # Количество успехов в группе B\n",
    "\n",
    "\n",
    "#Вычислите конверсию (вероятность успеха) для каждой группы:\n",
    "\n",
    "p_A = x_A / n_A\n",
    "p_B = x_B / n_B\n",
    "\n",
    "# Вычисляем стандартное отклонение для каждой группы\n",
    "\n",
    "std_error_A = np.sqrt(p_A * (1 - p_A) / n_A)\n",
    "std_error_B = np.sqrt(p_B * (1 - p_B) / n_B)\n",
    "\n",
    "# Вычисляем z-статистику\n",
    "\n",
    "#The z-score is a score that measures how many standard deviations a data point is away from the mean. \n",
    "#The z-score allows us to determine how usual or unusual a data point is in a distribution. \n",
    "#The z-score allows us more easily compare data points for a record across features, especially when the different features have significantly different ranges.\n",
    "\n",
    "\n",
    "z = (p_A - p_B) / np.sqrt(std_error_A**2 / n_A + std_error_B**2 / n_B)\n",
    "\n",
    "# Вычисляем p-значение для двустороннего теста\n",
    "\n",
    "p_value = 2 * (1 - stats.norm.cdf(np.abs(z)))\n",
    "\n",
    "# Задаем уровень значимости (обычно 0.05)\n",
    "\n",
    "alpha = 0.05\n",
    "\n",
    "# Проверяем статистическую значимость\n",
    "\n",
    "if p_value < alpha:\n",
    "    print(\"Есть статистически значимая разница между группами A и B.\",p_value)\n",
    "else:\n",
    "    print(\"Нет статистически значимой разницы между группами A и B.\",p_value)"
   ]
  },
  {
   "cell_type": "markdown",
   "id": "8a9390bf",
   "metadata": {},
   "source": [
    "#Z-тест для разности долей (Z-test for Proportions): Этот тест используется для сравнения долей или пропорций в двух группах. \n",
    "#Он помогает определить, есть ли статистически значимая разница между процентами конверсии в контрольной и тестовой группах.\n",
    "\n",
    "#Так как переменная у нас биномиальная то проводим Z тест T тест для таких величин не подходит\n"
   ]
  },
  {
   "cell_type": "code",
   "execution_count": 153,
   "id": "2b11f8cc",
   "metadata": {
    "scrolled": true
   },
   "outputs": [
    {
     "data": {
      "text/plain": [
       "0.4458150918004189"
      ]
     },
     "execution_count": 153,
     "metadata": {},
     "output_type": "execute_result"
    }
   ],
   "source": [
    "z_score,p_value = sm.stats.proportions_ztest([test_success,control_success],[len(test_values),len(control_values)])\n",
    "p_value"
   ]
  },
  {
   "cell_type": "code",
   "execution_count": 134,
   "id": "caaa6973",
   "metadata": {},
   "outputs": [
    {
     "name": "stdout",
     "output_type": "stream",
     "text": [
      "Средняя разница: -0.016266\n",
      "Стандартная ошибка: 0.021829778835343244\n",
      "95% Доверительный интервал: [-0.059025  0.025   ]\n"
     ]
    }
   ],
   "source": [
    "#Bootstrap 1 ручная версия \n",
    "\n",
    "# Количество бутстрэп-подвыборок\n",
    "n_bootstrap_samples = 1000\n",
    "\n",
    "# Создаем список, в котором будем хранить разницы между группами для каждой бутстрэп-выборки\n",
    "\n",
    "bootstrap_differences = []\n",
    "\n",
    "# Выполняем бутстрэп\n",
    "\n",
    "for _ in range(n_bootstrap_samples):\n",
    "    # Генерируем бутстрэп-выборки для обеих групп\n",
    "    bootstrap_sample_a = np.random.choice(test_values, size=len(test_values), replace=True)\n",
    "    bootstrap_sample_b = np.random.choice(control_values, size=len(control_values), replace=True)\n",
    "    \n",
    "    # Вычисляем метрику для бутстрэп-выборок (например, разницу в конверсии)\n",
    "    \n",
    "    metric_a = np.mean(bootstrap_sample_a)\n",
    "    metric_b = np.mean(bootstrap_sample_b)\n",
    "    \n",
    "    difference = metric_b - metric_a\n",
    "    \n",
    "    # Добавляем разницу в список\n",
    "    \n",
    "    bootstrap_differences.append(difference)\n",
    "\n",
    "# Вычисляем статистики на основе бутстрэп-распределения\n",
    "bootstrap_mean = np.mean(bootstrap_differences)\n",
    "bootstrap_std = np.std(bootstrap_differences)\n",
    "confidence_interval = np.percentile(bootstrap_differences, [2.5, 97.5])  # 95% доверительный интервал\n",
    "\n",
    "# Выводим результаты\n",
    "print(f\"Средняя разница: {bootstrap_mean}\")\n",
    "print(f\"Стандартная ошибка: {bootstrap_std}\")\n",
    "print(f\"95% Доверительный интервал: {confidence_interval}\")\n"
   ]
  },
  {
   "cell_type": "markdown",
   "id": "7291508f",
   "metadata": {},
   "source": [
    "Бутстрэп-анализ:\n",
    "Бутстрэп - это метод, который позволяет оценивать распределение статистик путем случайного выбора данных из вашей выборки с возвращением. Этот метод может быть полезным для оценки доверительных интервалов и статистических характеристик биномиальных данных, независимо от их распределения."
   ]
  },
  {
   "cell_type": "code",
   "execution_count": 139,
   "id": "181aac87",
   "metadata": {
    "scrolled": true
   },
   "outputs": [
    {
     "data": {
      "image/png": "[encoded data removed]",
      "text/plain": [
       "<Figure size 1440x720 with 1 Axes>"
      ]
     },
     "metadata": {
      "needs_background": "light"
     },
     "output_type": "display_data"
    }
   ],
   "source": [
    "# Рисуем график\n",
    "plt.rcParams[\"figure.figsize\"] = (20,10)\n",
    "plt.hist(bootstrap_differences, bins=30, edgecolor='k', alpha=0.7, color='blue')\n",
    "plt.axvline(x=0, color='red', linestyle='-', label='0 значение')\n",
    "plt.axvline(x=bootstrap_mean, color='red', linestyle='--', label='Среднее значение разницы')\n",
    "plt.axvline(x=confidence_interval[0], color='green', linestyle='--', label='95% Доверительный интервал (нижний предел)')\n",
    "plt.axvline(x=confidence_interval[1], color='green', linestyle='--', label='95% Доверительный интервал (верхний предел)')\n",
    "plt.legend(loc='upper right')\n",
    "plt.xlabel('Разница между группами')\n",
    "plt.ylabel('Частота')\n",
    "plt.title('Бутстрэп-распределение разницы между группами')\n",
    "plt.show()"
   ]
  },
  {
   "cell_type": "markdown",
   "id": "c1465b16",
   "metadata": {},
   "source": [
    "Доверительный интервал (CI): Доверительный интервал показывает диапазон значений, в котором с некоторой вероятностью (например, 95%) находится разница между группами.\n",
    "Если доверительный интервал включает ноль: Это может говорить о том, что различия не являются статистически значимыми.\n",
    "Если доверительный интервал не включает ноль: Это может указывать на статистически значимые различия между группами."
   ]
  },
  {
   "cell_type": "code",
   "execution_count": 136,
   "id": "a33adb04",
   "metadata": {},
   "outputs": [
    {
     "data": {
      "text/plain": [
       "array([-0.026,  0.061])"
      ]
     },
     "execution_count": 136,
     "metadata": {},
     "output_type": "execute_result"
    }
   ],
   "source": [
    "#Bootstrap библиотека\n",
    "\n",
    "boot_results = bs.bootstrap_ab(test=test_values,ctrl = control_values,stat_func = bs_stats.mean,\\\n",
    "                               compare_func= bs_compare.difference,\\\n",
    "                               alpha=0.05,\\\n",
    "                               return_distribution=True)\n",
    "\n",
    "borders = np.percentile(boot_results,[2.5,97.5])\n",
    "borders"
   ]
  },
  {
   "cell_type": "code",
   "execution_count": 138,
   "id": "3308bb41",
   "metadata": {
    "scrolled": true
   },
   "outputs": [
    {
     "data": {
      "image/png": "[encoded data removed]",
      "text/plain": [
       "<Figure size 1440x720 with 1 Axes>"
      ]
     },
     "metadata": {
      "needs_background": "light"
     },
     "output_type": "display_data"
    }
   ],
   "source": [
    "# Рисуем график\n",
    "plt.rcParams[\"figure.figsize\"] = (20,10)\n",
    "plt.hist(boot_results, bins=30, edgecolor='k', alpha=0.7, color='blue')\n",
    "plt.axvline(x=0, color='red', linestyle='-', label='0 значение')\n",
    "plt.axvline(x=bootstrap_mean, color='red', linestyle='--', label='Среднее значение разницы')\n",
    "plt.axvline(x=borders[0], color='green', linestyle='--', label='95% Доверительный интервал (нижний предел)')\n",
    "plt.axvline(x=borders[1], color='green', linestyle='--', label='95% Доверительный интервал (верхний предел)')\n",
    "plt.legend(loc='upper right')\n",
    "plt.xlabel('Разница между группами')\n",
    "plt.ylabel('Частота')\n",
    "plt.title('Бутстрэп-распределение разницы между группами')\n",
    "plt.show()"
   ]
  },
  {
   "cell_type": "markdown",
   "id": "a49ad2ed",
   "metadata": {},
   "source": [
    "Доверительный интервал (CI): Доверительный интервал показывает диапазон значений, в котором с некоторой вероятностью (например, 95%) находится разница между группами.\n",
    "Если доверительный интервал включает ноль: Это может говорить о том, что различия не являются статистически значимыми.\n",
    "Если доверительный интервал не включает ноль: Это может указывать на статистически значимые различия между группами."
   ]
  },
  {
   "cell_type": "code",
   "execution_count": 140,
   "id": "567f35a2",
   "metadata": {
    "scrolled": true
   },
   "outputs": [
    {
     "data": {
      "image/png": "[encoded data removed]",
      "text/plain": [
       "<Figure size 1440x720 with 1 Axes>"
      ]
     },
     "metadata": {
      "needs_background": "light"
     },
     "output_type": "display_data"
    }
   ],
   "source": [
    "import matplotlib.pyplot as plt\n",
    "from scipy.stats import binom\n",
    "\n",
    "# Параметры биномиального распределения\n",
    "n = 10  # Количество испытаний (бросков монетки)\n",
    "p = 0.5  # Вероятность успеха (выпадения орла)\n",
    "\n",
    "# Создаем массив значений k (количество успехов от 0 до n)\n",
    "k_values = list(range(n + 1))\n",
    "\n",
    "# Вычисляем вероятности для каждого k\n",
    "probabilities = [binom.pmf(k, n, p) for k in k_values]\n",
    "\n",
    "# Строим график\n",
    "plt.bar(k_values, probabilities)\n",
    "plt.title('Биномиальное распределение (n=10, p=0.5)')\n",
    "plt.xlabel('Количество успехов (орлов)')\n",
    "plt.ylabel('Вероятность')\n",
    "plt.show()"
   ]
  },
  {
   "cell_type": "code",
   "execution_count": 142,
   "id": "215c46d6",
   "metadata": {
    "scrolled": true
   },
   "outputs": [
    {
     "data": {
      "image/png": "[encoded data removed]",
      "text/plain": [
       "<Figure size 1440x720 with 1 Axes>"
      ]
     },
     "metadata": {
      "needs_background": "light"
     },
     "output_type": "display_data"
    }
   ],
   "source": [
    "import matplotlib.pyplot as plt\n",
    "from scipy.stats import binom\n",
    "\n",
    "# Параметры биномиального распределения\n",
    "n = 10  # Количество испытаний (бросков монетки)\n",
    "p = 0.2  # Вероятность успеха (выпадения орла)\n",
    "\n",
    "# Создаем массив значений k (количество успехов от 0 до n)\n",
    "k_values = list(range(n + 1))\n",
    "\n",
    "# Вычисляем вероятности для каждого k\n",
    "probabilities = [binom.pmf(k, n, p) for k in k_values]\n",
    "\n",
    "# Строим график\n",
    "plt.bar(k_values, probabilities)\n",
    "plt.title('Биномиальное распределение (n=10, p=0.8)')\n",
    "plt.xlabel('Количество успехов (орлов)')\n",
    "plt.ylabel('Вероятность')\n",
    "plt.show()\n"
   ]
  },
  {
   "cell_type": "code",
   "execution_count": null,
   "id": "bc3e4c57",
   "metadata": {},
   "outputs": [],
   "source": [
    "from scipy.stats import binom_test\n"
   ]
  },
  {
   "cell_type": "markdown",
   "id": "7e59b956",
   "metadata": {},
   "source": [
    "#Для непрерывной переменной - например средний чек"
   ]
  },
  {
   "cell_type": "code",
   "execution_count": null,
   "id": "de125dfe",
   "metadata": {},
   "outputs": [],
   "source": [
    "\n",
    "\n",
    "#Проверка на нормальное распределение тестом Шапиро\n",
    "\n",
    "from scipy.stats import shapiro\n",
    "\n",
    "# Проводим тест Шапиро-Уилка\n",
    "_, p_value = shapiro(control_values)\n",
    "\n",
    "# Проверяем результат\n",
    "if p_value > 0.05:\n",
    "    print(\"Данные могут быть нормально распределены.\")\n",
    "else:\n",
    "    print(\"Данные не являются нормально распределенными.\")"
   ]
  },
  {
   "cell_type": "markdown",
   "id": "eb90a04c",
   "metadata": {},
   "source": [
    "#Для непрерывной величины"
   ]
  },
  {
   "cell_type": "code",
   "execution_count": 163,
   "id": "99783c7c",
   "metadata": {},
   "outputs": [],
   "source": [
    "#Создадим тестовую и контрольную выборки например покупок\n",
    "\n",
    "test_values = np.random.randint(1000, size=1000)\n",
    "control_values = np.random.randint(1000,size=1000)"
   ]
  },
  {
   "cell_type": "markdown",
   "id": "5c64a30b",
   "metadata": {},
   "source": [
    "t-тест для разности средних (t-test for Means): Иногда, вместо долей, важно сравнивать средние значения метрики между группами. Тогда можно использовать t-тест, если конверсия измеряется в числовых единицах, например, среднее количество покупок на пользователя."
   ]
  },
  {
   "cell_type": "code",
   "execution_count": 164,
   "id": "0ec108f1",
   "metadata": {},
   "outputs": [
    {
     "name": "stdout",
     "output_type": "stream",
     "text": [
      "statistic =  -0.8995262371820573\n",
      "p_value =  0.36848082421745076\n",
      "Not Significant 0.36848082421745076\n"
     ]
    }
   ],
   "source": [
    "#T test\n",
    "\n",
    "test_result = stats.ttest_ind(test_values, control_values)\n",
    "\n",
    "statistic = test_result[0]\n",
    "p_value = test_result[1]\n",
    "\n",
    "print('statistic = ', statistic)\n",
    "print('p_value = ', p_value)\n",
    "\n",
    "# Check for statistical significance\n",
    "if p_value >= 0.05:\n",
    "    print(\"Not Significant\")\n",
    "else:\n",
    "    print(\"Significant Result\")"
   ]
  },
  {
   "cell_type": "code",
   "execution_count": 170,
   "id": "e88ef922",
   "metadata": {},
   "outputs": [
    {
     "name": "stdout",
     "output_type": "stream",
     "text": [
      "Statistics=488513.500, p=0.374\n",
      "Not Significant\n"
     ]
    }
   ],
   "source": [
    "#Монавитни тест\n",
    "\n",
    "stat, p = mannwhitneyu(test_values, control_values)\n",
    "\n",
    "print('Statistics=%.3f, p=%.3f' % (stat, p))\n",
    "\n",
    "# interpret\n",
    "\n",
    "alpha = 0.05\n",
    "\n",
    "if p >= 0.05:\n",
    "    print(\"Not Significant\")\n",
    "else:\n",
    "    print(\"Significant Result\")"
   ]
  },
  {
   "cell_type": "code",
   "execution_count": 165,
   "id": "b973f85c",
   "metadata": {},
   "outputs": [
    {
     "name": "stdout",
     "output_type": "stream",
     "text": [
      "Средняя разница: 11.099581000000002\n",
      "Стандартная ошибка: 13.115854699006048\n",
      "95% Доверительный интервал: [-14.165675  36.993   ]\n"
     ]
    }
   ],
   "source": [
    "#Bootstrap 1 ручная версия \n",
    "\n",
    "# Количество бутстрэп-подвыборок\n",
    "n_bootstrap_samples = 1000\n",
    "\n",
    "# Создаем список, в котором будем хранить разницы между группами для каждой бутстрэп-выборки\n",
    "\n",
    "bootstrap_differences = []\n",
    "\n",
    "# Выполняем бутстрэп\n",
    "\n",
    "for _ in range(n_bootstrap_samples):\n",
    "    # Генерируем бутстрэп-выборки для обеих групп\n",
    "    bootstrap_sample_a = np.random.choice(test_values, size=len(test_values), replace=True)\n",
    "    bootstrap_sample_b = np.random.choice(control_values, size=len(control_values), replace=True)\n",
    "    \n",
    "    # Вычисляем метрику для бутстрэп-выборок (например, разницу в конверсии)\n",
    "    \n",
    "    metric_a = np.mean(bootstrap_sample_a)\n",
    "    metric_b = np.mean(bootstrap_sample_b)\n",
    "    \n",
    "    difference = metric_b - metric_a\n",
    "    \n",
    "    # Добавляем разницу в список\n",
    "    \n",
    "    bootstrap_differences.append(difference)\n",
    "\n",
    "# Вычисляем статистики на основе бутстрэп-распределения\n",
    "bootstrap_mean = np.mean(bootstrap_differences)\n",
    "bootstrap_std = np.std(bootstrap_differences)\n",
    "confidence_interval = np.percentile(bootstrap_differences, [2.5, 97.5])  # 95% доверительный интервал\n",
    "\n",
    "# Выводим результаты\n",
    "print(f\"Средняя разница: {bootstrap_mean}\")\n",
    "print(f\"Стандартная ошибка: {bootstrap_std}\")\n",
    "print(f\"95% Доверительный интервал: {confidence_interval}\")\n"
   ]
  },
  {
   "cell_type": "code",
   "execution_count": 166,
   "id": "89914d17",
   "metadata": {
    "scrolled": true
   },
   "outputs": [
    {
     "data": {
      "image/png": "[encoded data removed]",
      "text/plain": [
       "<Figure size 1440x720 with 1 Axes>"
      ]
     },
     "metadata": {
      "needs_background": "light"
     },
     "output_type": "display_data"
    }
   ],
   "source": [
    "# Рисуем график\n",
    "plt.rcParams[\"figure.figsize\"] = (20,10)\n",
    "plt.hist(bootstrap_differences, bins=30, edgecolor='k', alpha=0.7, color='blue')\n",
    "plt.axvline(x=0, color='red', linestyle='-', label='0 значение')\n",
    "plt.axvline(x=bootstrap_mean, color='red', linestyle='--', label='Среднее значение разницы')\n",
    "plt.axvline(x=confidence_interval[0], color='green', linestyle='--', label='95% Доверительный интервал (нижний предел)')\n",
    "plt.axvline(x=confidence_interval[1], color='green', linestyle='--', label='95% Доверительный интервал (верхний предел)')\n",
    "plt.legend(loc='upper right')\n",
    "plt.xlabel('Разница между группами')\n",
    "plt.ylabel('Частота')\n",
    "plt.title('Бутстрэп-распределение разницы между группами')\n",
    "plt.show()"
   ]
  },
  {
   "cell_type": "code",
   "execution_count": null,
   "id": "f60ab3ca",
   "metadata": {},
   "outputs": [],
   "source": [
    "#Одиночные тесты"
   ]
  },
  {
   "cell_type": "code",
   "execution_count": null,
   "id": "7a896422",
   "metadata": {},
   "outputs": [],
   "source": [
    "#MDE - Минимально обнаруживаемый эффект"
   ]
  },
  {
   "cell_type": "markdown",
   "id": "f5a9eb8f",
   "metadata": {},
   "source": [
    "Минимально обнаруживаемый эффект (Minimum Detectable Effect, MDE) в A/B-тестировании - это минимальное относительное изменение в метрике, которое вы хотите способны обнаружить с заданной статистической мощностью и уровнем значимости. Определение MDE является важной частью проектирования A/B-теста, так как оно помогает определить необходимый размер выборки для достижения заданных статистических целей.\n",
    "\n",
    "Давайте рассмотрим пример определения MDE на Python. Допустим, у нас есть интернет-магазин, и мы хотим узнать, какое минимальное относительное изменение конверсии (процент пользователей, совершивших покупку) мы можем обнаружить в A/B-тесте."
   ]
  },
  {
   "cell_type": "code",
   "execution_count": 173,
   "id": "f0bd0ab7",
   "metadata": {},
   "outputs": [
    {
     "name": "stdout",
     "output_type": "stream",
     "text": [
      "Минимально обнаруживаемый эффект (MDE): 26.58%\n"
     ]
    }
   ],
   "source": [
    "import numpy as np\n",
    "import scipy.stats as stats\n",
    "\n",
    "# Задаем параметры для расчета MDE\n",
    "baseline_conversion_rate = 0.1  # Базовая конверсия (до теста)\n",
    "desired_power = 0.8  # Желаемая статистическая мощность (обычно 0.8)\n",
    "alpha = 0.05  # Уровень значимости (обычно 0.05)\n",
    "\n",
    "# Задаем размер выборки для контрольной группы\n",
    "sample_size_control = 1000\n",
    "\n",
    "# Рассчитываем стандартное отклонение для биномиального распределения\n",
    "std_dev = np.sqrt((baseline_conversion_rate * (1 - baseline_conversion_rate)) / sample_size_control)\n",
    "\n",
    "# Рассчитываем Z-значение для заданной статистической мощности\n",
    "z_value = stats.norm.ppf(1 - alpha/2) + stats.norm.ppf(desired_power)\n",
    "\n",
    "# Рассчитываем MDE\n",
    "mde = z_value * std_dev\n",
    "\n",
    "# Преобразуем MDE в проценты\n",
    "mde_percentage = mde / baseline_conversion_rate * 100\n",
    "\n",
    "# Вывод результатов\n",
    "print(f\"Минимально обнаруживаемый эффект (MDE): {mde_percentage:.2f}%\")"
   ]
  },
  {
   "cell_type": "markdown",
   "id": "89037666",
   "metadata": {},
   "source": [
    "Минимально обнаруживаемый эффект (Minimum Detectable Effect, MDE) для средних используется, когда вы хотите определить, какое минимальное относительное изменение среднего значения метрики вы хотите способны обнаружить в A/B-тесте. Давайте рассмотрим пример определения MDE для средних значений на Python.\n",
    "\n",
    "Предположим, у вас есть интернет-магазин, и вы хотите определить MDE для среднего чека покупателей (средней суммы покупок). Мы будем использовать библиотеку statsmodels для расчета MDE."
   ]
  },
  {
   "cell_type": "code",
   "execution_count": null,
   "id": "b8d9d80f",
   "metadata": {},
   "outputs": [],
   "source": [
    "import statsmodels.stats.api as sms\n",
    "\n",
    "# Задаем параметры для расчета MDE\n",
    "baseline_mean = 100  # Базовое среднее значение (до теста)\n",
    "desired_power = 0.8  # Желаемая статистическая мощность (обычно 0.8)\n",
    "alpha = 0.05  # Уровень значимости (обычно 0.05)\n",
    "\n",
    "# Задаем размер выборки для контрольной группы\n",
    "sample_size_control = 1000\n",
    "\n",
    "# Задаем размер выборки для тестовой группы (экспериментальной)\n",
    "sample_size_experiment = sms.tt_ind_solve_power(effect_size=None, alpha=alpha, power=desired_power,\n",
    "                                                ratio=1.0, nobs1=sample_size_control, alternative='larger')\n",
    "\n",
    "# Рассчитываем MDE\n",
    "mde = abs(baseline_mean - baseline_mean * (1 + sample_size_control / sample_size_experiment))\n",
    "\n",
    "# Вывод результатов\n",
    "print(f\"Минимально обнаруживаемый эффект (MDE): {mde:.2f}\")"
   ]
  },
  {
   "cell_type": "code",
   "execution_count": null,
   "id": "c78daf16",
   "metadata": {},
   "outputs": [],
   "source": [
    "#Категориальные переменные"
   ]
  },
  {
   "cell_type": "markdown",
   "id": "643c6aac",
   "metadata": {},
   "source": [
    "Хи-квадрат тест (Chi-Square Test): Если у вас есть категориальные переменные и вы хотите оценить, есть ли статистически значимая связь между ними и конверсией, то хи-квадрат тест может быть полезным."
   ]
  },
  {
   "cell_type": "markdown",
   "id": "c4eb4706",
   "metadata": {},
   "source": [
    "Когда вы работаете с категориальными переменными, вы можете использовать различные статистические тесты для анализа влияния этих переменных на исходы или для проверки связей между категориальными переменными. Давайте рассмотрим несколько примеров статистических тестов с категориальными переменными на Python.\n",
    "\n",
    "1. Хи-квадрат тест для таблиц сопряженности (Chi-Square Test of Independence):\n",
    "Хи-квадрат тест используется для проверки независимости двух категориальных переменных. Допустим, у нас есть две категориальные переменные A и B, и мы хотим узнать, есть ли статистически значимая связь между ними."
   ]
  },
  {
   "cell_type": "code",
   "execution_count": null,
   "id": "6ce43ddf",
   "metadata": {},
   "outputs": [],
   "source": [
    "import pandas as pd\n",
    "from scipy.stats import chi2_contingency\n",
    "\n",
    "# Создаем таблицу сопряженности\n",
    "data = pd.DataFrame({\n",
    "    'A': ['Yes', 'No', 'Yes', 'No', 'Yes'],\n",
    "    'B': ['High', 'Low', 'Medium', 'High', 'Low']\n",
    "})\n",
    "\n",
    "# Выполняем хи-квадрат тест\n",
    "chi2, p, _, _ = chi2_contingency(pd.crosstab(data['A'], data['B']))\n",
    "\n",
    "# Уровень значимости (обычно 0.05)\n",
    "alpha = 0.05\n",
    "\n",
    "# Вывод результатов\n",
    "print(f\"Хи-квадрат статистика: {chi2}\")\n",
    "print(f\"p-значение: {p}\")\n",
    "\n",
    "# Проверяем статистическую значимость\n",
    "if p < alpha:\n",
    "    print(\"Отвергаем нулевую гипотезу: между переменными есть связь.\")\n",
    "else:\n",
    "    print(\"Не удалось отвергнуть нулевую гипотезу: переменные независимы.\")"
   ]
  },
  {
   "cell_type": "markdown",
   "id": "63edc30f",
   "metadata": {},
   "source": [
    "Хи-квадрат тест (Chi-Square Test) может использоваться в A/B-тестировании для анализа связи между категориальными переменными, например, для оценки различий в распределении пользователей между двумя версиями вашего продукта или сайта.\n",
    "\n",
    "Давайте рассмотрим пример использования хи-квадрат теста в A/B-тестировании на Python:\n",
    "\n"
   ]
  },
  {
   "cell_type": "code",
   "execution_count": null,
   "id": "bc831238",
   "metadata": {},
   "outputs": [],
   "source": [
    "import pandas as pd\n",
    "from scipy.stats import chi2_contingency\n",
    "\n",
    "# Создаем таблицу сопряженности для A/B-теста (пример)\n",
    "data = pd.DataFrame({\n",
    "    'Version_A': [250, 750],  # 250 пользователей в версии A совершили действие, 750 - нет\n",
    "    'Version_B': [300, 700]   # 300 пользователей в версии B совершили действие, 700 - нет\n",
    "})\n",
    "\n",
    "# Выполняем хи-квадрат тест\n",
    "chi2, p, _, _ = chi2_contingency(data)\n",
    "\n",
    "# Уровень значимости (обычно 0.05)\n",
    "alpha = 0.05\n",
    "\n",
    "# Вывод результатов\n",
    "print(f\"Хи-квадрат статистика: {chi2}\")\n",
    "print(f\"p-значение: {p}\")\n",
    "\n",
    "# Проверяем статистическую значимость\n",
    "if p < alpha:\n",
    "    print(\"Отвергаем нулевую гипотезу: есть статистически значимые различия между версиями A и B.\")\n",
    "else:\n",
    "    print(\"Не удалось отвергнуть нулевую гипотезу: различия между версиями A и B не являются статистически значимыми.\")"
   ]
  },
  {
   "cell_type": "markdown",
   "id": "6297f4cb",
   "metadata": {},
   "source": [
    "Парный t-тест (Paired t-test) - это статистический тест, который используется для сравнения средних значений двух связанных выборок, то есть выборок, в которых каждое наблюдение в одной выборке соответствует какому-то определенному наблюдению в другой выборке. Этот тест обычно применяется, когда мы хотим оценить различия между двумя условиями или моментами времени для одних и тех же объектов.\n",
    "\n",
    "Вот как работает парный t-тест:\n",
    "\n",
    "Формулируется нулевая гипотеза (\n",
    "H\n",
    "0\n",
    "H \n",
    "0\n",
    "​\t\n",
    " ), которая утверждает, что средние значения двух связанных выборок равны. В других словах, различия между выборками незначительны.\n",
    "Формулируется альтернативная гипотеза (\n",
    "H\n",
    "1\n",
    "H \n",
    "1\n",
    "​\t\n",
    " ), которая утверждает, что средние значения двух связанных выборок различаются. В этом случае, различия между выборками считаются статистически значимыми.\n",
    "Проводится t-тест для оценки статистической значимости различий между средними значениями выборок.\n",
    "Вычисляется p-значение, которое показывает вероятность получить наблюдаемые различия, если нулевая гипотеза верна.\n",
    "Если p-значение меньше выбранного уровня значимости (обычно 0.05), нулевая гипотеза отвергается в пользу альтернативной гипотезы, и различия считаются статистически значимыми.\n",
    "Вот пример использования парного t-теста на Python:"
   ]
  },
  {
   "cell_type": "code",
   "execution_count": null,
   "id": "63a412ce",
   "metadata": {},
   "outputs": [],
   "source": [
    "#Для непрерывной величины\n",
    "\n",
    "import numpy as np\n",
    "from scipy import stats\n",
    "\n",
    "# Создаем две связанные выборки (пример)\n",
    "np.random.seed(0)\n",
    "before = np.random.normal(loc=100, scale=10, size=30)  # Исходное состояние\n",
    "after = before + np.random.normal(loc=5, scale=2, size=30)  # Состояние после воздействия\n",
    "\n",
    "# Выполняем парный t-тест\n",
    "t_statistic, p_value = stats.ttest_rel(before, after)\n",
    "\n",
    "# Уровень значимости (обычно 0.05)\n",
    "alpha = 0.05\n",
    "\n",
    "# Вывод результатов\n",
    "print(f\"t-статистика: {t_statistic}\")\n",
    "print(f\"p-значение: {p_value}\")\n",
    "\n",
    "# Проверяем статистическую значимость\n",
    "if p_value < alpha:\n",
    "    print(\"Отвергаем нулевую гипотезу: средние значения различаются (статистически значимо).\")\n",
    "else:\n",
    "    print(\"Не удалось отвергнуть нулевую гипотезу: средние значения не различаются (не статистически значимо).\")"
   ]
  },
  {
   "cell_type": "markdown",
   "id": "665c50c5",
   "metadata": {},
   "source": [
    "#Парный тест на пропорции\n",
    "\n",
    "Парный тест на пропорции используется для сравнения пропорций в двух связанных выборках. Этот тест позволяет определить, есть ли статистически значимые различия в пропорциях до и после воздействия или в двух схожих условиях.\n",
    "\n",
    "Вот как работает парный тест на пропорции:\n",
    "\n",
    "Формулируется нулевая гипотеза (\n",
    "H\n",
    "0\n",
    "H \n",
    "0\n",
    "​\t\n",
    " ), которая утверждает, что пропорции в двух связанных выборках равны. То есть, различия в пропорциях незначительны.\n",
    "Формулируется альтернативная гипотеза (\n",
    "H\n",
    "1\n",
    "H \n",
    "1\n",
    "​\t\n",
    " ), которая утверждает, что пропорции различаются. В этом случае, различия в пропорциях считаются статистически значимыми.\n",
    "Проводится тест для оценки статистической значимости различий в пропорциях.\n",
    "Вычисляется p-значение, которое показывает вероятность получить наблюдаемые различия в пропорциях, если нулевая гипотеза верна.\n",
    "Если p-значение меньше выбранного уровня значимости (обычно 0.05), нулевая гипотеза отвергается в пользу альтернативной гипотезы, и различия считаются статистически значимыми.\n",
    "Вот пример использования парного теста на пропорции на Python:"
   ]
  },
  {
   "cell_type": "code",
   "execution_count": null,
   "id": "f400977b",
   "metadata": {},
   "outputs": [],
   "source": [
    "import numpy as np\n",
    "import scipy.stats as stats\n",
    "\n",
    "# Создаем две связанные выборки (пример)\n",
    "np.random.seed(0)\n",
    "before = np.random.choice([0, 1], size=30, p=[0.7, 0.3])  # Исходная пропорция\n",
    "after = np.random.choice([0, 1], size=30, p=[0.5, 0.5])  # Пропорция после воздействия\n",
    "\n",
    "# Выполняем парный тест на пропорции\n",
    "\n",
    "z_statistic, p_value = stats.binom_test([sum(before), sum(after)], n=len(before), alternative='two-sided')\n",
    "\n",
    "# Уровень значимости (обычно 0.05)\n",
    "\n",
    "alpha = 0.05\n",
    "\n",
    "# Вывод результатов\n",
    "print(f\"Z-статистика: {z_statistic}\")\n",
    "print(f\"p-значение: {p_value}\")\n",
    "\n",
    "# Проверяем статистическую значимость\n",
    "if p_value < alpha:\n",
    "    print(\"Отвергаем нулевую гипотезу: пропорции различаются (статистически значимо).\")\n",
    "else:\n",
    "    print(\"Не удалось отвергнуть нулевую гипотезу: пропорции не различаются (не статистически значимо).\")"
   ]
  }
 ],
 "metadata": {
  "kernelspec": {
   "display_name": "Python 3 (ipykernel)",
   "language": "python",
   "name": "python3"
  },
  "language_info": {
   "codemirror_mode": {
    "name": "ipython",
    "version": 3
   },
   "file_extension": ".py",
   "mimetype": "text/x-python",
   "name": "python",
   "nbconvert_exporter": "python",
   "pygments_lexer": "ipython3",
   "version": "3.9.12"
  }
 },
 "nbformat": 4,
 "nbformat_minor": 5
}
